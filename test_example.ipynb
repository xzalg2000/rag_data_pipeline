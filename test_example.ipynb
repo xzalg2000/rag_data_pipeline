{
 "cells": [
  {
   "cell_type": "code",
   "execution_count": 1,
   "metadata": {},
   "outputs": [
    {
     "name": "stderr",
     "output_type": "stream",
     "text": [
      "/Users/zaoxu/Work/Job_related/disney/de_pipeline_v2/venv_dev2/lib/python3.11/site-packages/sentence_transformers/cross_encoder/CrossEncoder.py:13: TqdmWarning: IProgress not found. Please update jupyter and ipywidgets. See https://ipywidgets.readthedocs.io/en/stable/user_install.html\n",
      "  from tqdm.autonotebook import tqdm, trange\n"
     ]
    }
   ],
   "source": [
    "from pipeline import main\n",
    "import logging\n",
    "# from data_ingestion import DataIngestionPipeline\n",
    "# from data_preprocessing import DataPreprocessingPipeline\n",
    "# from vectorization import VectorizationPipeline\n",
    "from api.config import db_config, model_name, index_file\n"
   ]
  },
  {
   "cell_type": "code",
   "execution_count": 2,
   "metadata": {},
   "outputs": [
    {
     "name": "stderr",
     "output_type": "stream",
     "text": [
      "Batches: 100%|██████████| 2/2 [00:00<00:00,  5.96it/s]\n",
      "Batches: 100%|██████████| 2/2 [00:00<00:00, 14.61it/s]\n",
      "Batches: 100%|██████████| 2/2 [00:00<00:00,  9.85it/s]\n",
      "Batches: 100%|██████████| 2/2 [00:00<00:00,  8.79it/s]\n",
      "Batches: 100%|██████████| 2/2 [00:00<00:00,  8.73it/s]\n",
      "Batches: 100%|██████████| 2/2 [00:00<00:00, 27.31it/s]\n",
      "Batches: 100%|██████████| 2/2 [00:00<00:00, 24.75it/s]\n",
      "Batches: 100%|██████████| 2/2 [00:00<00:00, 13.92it/s]\n",
      "Batches: 100%|██████████| 2/2 [00:00<00:00,  7.64it/s]\n",
      "Batches: 100%|██████████| 2/2 [00:00<00:00, 23.43it/s]\n",
      "Batches: 100%|██████████| 2/2 [00:00<00:00, 25.86it/s]\n",
      "Batches: 100%|██████████| 2/2 [00:00<00:00, 11.95it/s]\n",
      "Batches: 100%|██████████| 2/2 [00:00<00:00, 23.39it/s]\n",
      "Batches: 100%|██████████| 2/2 [00:00<00:00, 27.61it/s]\n",
      "Batches: 100%|██████████| 2/2 [00:00<00:00, 25.17it/s]\n",
      "Batches: 100%|██████████| 2/2 [00:00<00:00, 11.89it/s]\n",
      "Batches: 100%|██████████| 2/2 [00:00<00:00, 26.59it/s]\n",
      "Batches: 100%|██████████| 2/2 [00:00<00:00, 26.81it/s]\n",
      "Batches: 100%|██████████| 2/2 [00:00<00:00, 23.85it/s]\n",
      "Batches: 100%|██████████| 2/2 [00:00<00:00,  6.64it/s]\n"
     ]
    }
   ],
   "source": [
    "main()"
   ]
  },
  {
   "cell_type": "code",
   "execution_count": 5,
   "metadata": {},
   "outputs": [],
   "source": [
    "#test data ingestion\n",
    "ingestion_pipeline = DataIngestionPipeline(db_config)\n",
    "# Create tables and ingest data\n",
    "ingestion_pipeline.connect_db()\n",
    "ingestion_pipeline.create_tables()\n",
    "ingestion_pipeline.close_db()\n",
    "ingestion_pipeline.ingest_data('data/')  # Ensure your data is in the 'data/' directory"
   ]
  },
  {
   "cell_type": "code",
   "execution_count": 7,
   "metadata": {},
   "outputs": [],
   "source": [
    "# # test data preprocessing\n",
    "# try:\n",
    "#     logging.info(\"Starting data preprocessing.\")\n",
    "#     preprocessing_pipeline = DataPreprocessingPipeline(db_config)\n",
    "#     preprocessing_pipeline.run()\n",
    "#     logging.info(\"Data preprocessing completed successfully.\")\n",
    "# except Exception as e:\n",
    "#     logging.error(f\"Data preprocessing failed: {e}\")\n"
   ]
  },
  {
   "cell_type": "code",
   "execution_count": 2,
   "metadata": {},
   "outputs": [
    {
     "name": "stderr",
     "output_type": "stream",
     "text": [
      "Batches: 100%|██████████| 2/2 [00:00<00:00,  6.47it/s]\n",
      "Batches: 100%|██████████| 2/2 [00:00<00:00, 14.10it/s]\n",
      "Batches: 100%|██████████| 2/2 [00:00<00:00,  9.93it/s]\n",
      "Batches: 100%|██████████| 2/2 [00:00<00:00,  8.86it/s]\n",
      "Batches: 100%|██████████| 2/2 [00:00<00:00,  8.62it/s]\n",
      "Batches: 100%|██████████| 2/2 [00:00<00:00, 26.63it/s]\n",
      "Batches: 100%|██████████| 2/2 [00:00<00:00, 26.04it/s]\n",
      "Batches: 100%|██████████| 2/2 [00:00<00:00, 14.05it/s]\n",
      "Batches: 100%|██████████| 2/2 [00:00<00:00,  7.64it/s]\n",
      "Batches: 100%|██████████| 2/2 [00:00<00:00, 23.53it/s]\n"
     ]
    }
   ],
   "source": [
    "#. test vectorizatioin\n",
    "from vectorization import VectorizationPipeline\n",
    "try:\n",
    "    logging.info(\"Starting vectorization.\")\n",
    "    vectorization_pipeline = VectorizationPipeline(db_config, model_name, index_file)\n",
    "    vectorization_pipeline.run()\n",
    "    logging.info(\"Vectorization completed successfully.\")\n",
    "except Exception as e:\n",
    "    logging.error(f\"Vectorization failed: {e}\")"
   ]
  },
  {
   "cell_type": "code",
   "execution_count": 2,
   "metadata": {},
   "outputs": [
    {
     "name": "stdout",
     "output_type": "stream",
     "text": [
      "\n",
      "Sending query: What are common complaints about shipping?\n",
      "Table Type: customer_reviews\n",
      "==================================================\n",
      "Error making request: 500 Server Error: INTERNAL SERVER ERROR for url: http://localhost:5001/query\n",
      "\n",
      "Sending query: Find patients with fever symptoms\n",
      "Table Type: medical_records\n",
      "==================================================\n",
      "Error making request: 500 Server Error: INTERNAL SERVER ERROR for url: http://localhost:5001/query\n"
     ]
    }
   ],
   "source": [
    "!python tests/test_api.py"
   ]
  }
 ],
 "metadata": {
  "kernelspec": {
   "display_name": "venv_dev2",
   "language": "python",
   "name": "python3"
  },
  "language_info": {
   "codemirror_mode": {
    "name": "ipython",
    "version": 3
   },
   "file_extension": ".py",
   "mimetype": "text/x-python",
   "name": "python",
   "nbconvert_exporter": "python",
   "pygments_lexer": "ipython3",
   "version": "3.11.5"
  }
 },
 "nbformat": 4,
 "nbformat_minor": 2
}
